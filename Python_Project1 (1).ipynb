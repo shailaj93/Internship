{
 "cells": [
  {
   "cell_type": "code",
   "execution_count": 10,
   "id": "21da914b",
   "metadata": {},
   "outputs": [
    {
     "name": "stdout",
     "output_type": "stream",
     "text": [
      "enter the number=11\n",
      "Entered number is prime number\n"
     ]
    }
   ],
   "source": [
    "n = int(input(\"enter the number=\"))\n",
    "count=0\n",
    "if(n>1):\n",
    "    for i in range(2,n):\n",
    "        if (n % i)==0:\n",
    "            count=count+1\n",
    "    if count>=1:\n",
    "        print (\"Entered number is composite number\")\n",
    "    else: \n",
    "        print (\"Entered number is prime number\")\n",
    "        "
   ]
  },
  {
   "cell_type": "code",
   "execution_count": 37,
   "id": "29d8f0be",
   "metadata": {},
   "outputs": [
    {
     "name": "stdout",
     "output_type": "stream",
     "text": [
      "enter the 1st side of traingle=4\n",
      "enter the 2nd side of traingle=3\n",
      "The third side of the triangle is 5.0\n"
     ]
    }
   ],
   "source": [
    "import math\n",
    "\n",
    "a = int(input(\"enter the 1st side of traingle=\"))\n",
    "b = int(input(\"enter the 2nd side of traingle=\"))\n",
    "f=(a**2)+(b**2)\n",
    "c= math.sqrt(f)\n",
    "print (\"The third side of the triangle is\", c)\n",
    "\n"
   ]
  },
  {
   "cell_type": "code",
   "execution_count": 49,
   "id": "9d91fce4",
   "metadata": {},
   "outputs": [
    {
     "name": "stdout",
     "output_type": "stream",
     "text": [
      "Result{'I': 3, ' ': 8, 'l': 2, 'o': 1, 'v': 2, 'e': 2, 'm': 2, 'y': 1, 'n': 3, 'd': 2, 'i': 4, 'a': 3, 'M': 1, 'u': 1, 'b': 1}\n"
     ]
    }
   ],
   "source": [
    "a = \"I love my India and I live in Mumbai\"\n",
    "b={}\n",
    "for i in a:\n",
    "    if i in b:\n",
    "        b[i]+=1\n",
    "    else:\n",
    "        b[i]=1\n",
    "print (\"Result\"+str(b))\n"
   ]
  },
  {
   "cell_type": "code",
   "execution_count": 10,
   "id": "853d75e4",
   "metadata": {},
   "outputs": [
    {
     "name": "stdout",
     "output_type": "stream",
     "text": [
      "Enter the stringTATTARRATTAT\n",
      "It is a pallindrome\n"
     ]
    }
   ],
   "source": [
    "count=0\n",
    "a = str(input(\"Enter the string\"))\n",
    "b=len(a)\n",
    "c=b//2\n",
    "for i in range(0,c):\n",
    "    if a[i]==a[b-i-1]:\n",
    "        count=count+1\n",
    "if count==c:\n",
    "    print(\"It is a pallindrome\")\n",
    "else:\n",
    "    print(\"It is not a pallindrome\")\n",
    "\n"
   ]
  },
  {
   "cell_type": "code",
   "execution_count": 41,
   "id": "515e6927",
   "metadata": {},
   "outputs": [
    {
     "name": "stdout",
     "output_type": "stream",
     "text": [
      "enter the number=5\n",
      "The factorial of 5 is 120\n"
     ]
    }
   ],
   "source": [
    "Fact=1\n",
    "n = int(input(\"enter the number=\"))\n",
    "if n < 0:\n",
    "    print (\"Factorial not defined for -ve number\")\n",
    "elif n==0:\n",
    "    print (\"Factorial is always 1 for Zero\")\n",
    "else: \n",
    "    for i in range(1,n + 1):\n",
    "        Fact= Fact*i\n",
    "    print(\"The factorial of\",n,\"is\", Fact )"
   ]
  }
 ],
 "metadata": {
  "kernelspec": {
   "display_name": "Python 3",
   "language": "python",
   "name": "python3"
  },
  "language_info": {
   "codemirror_mode": {
    "name": "ipython",
    "version": 3
   },
   "file_extension": ".py",
   "mimetype": "text/x-python",
   "name": "python",
   "nbconvert_exporter": "python",
   "pygments_lexer": "ipython3",
   "version": "3.8.8"
  }
 },
 "nbformat": 4,
 "nbformat_minor": 5
}
